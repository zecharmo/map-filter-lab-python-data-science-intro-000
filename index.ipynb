{
 "cells": [
  {
   "cell_type": "markdown",
   "metadata": {},
   "source": [
    "# Map and Filter in Python Lab"
   ]
  },
  {
   "cell_type": "markdown",
   "metadata": {},
   "source": [
    "### Introduction"
   ]
  },
  {
   "cell_type": "markdown",
   "metadata": {},
   "source": [
    "In this lab, we'll put our new knowledge about map and filter to the test. We'll also get back to working with Yelp again. Let's get started!"
   ]
  },
  {
   "cell_type": "code",
   "execution_count": 1,
   "metadata": {},
   "outputs": [],
   "source": [
    "from restaurants import yelp_restaurants # in this line we are simply importing our data we gathered from Yelp."
   ]
  },
  {
   "cell_type": "code",
   "execution_count": 2,
   "metadata": {},
   "outputs": [],
   "source": [
    "restaurants = list(map(lambda restaurant: dict(name=restaurant['name'], \n",
    "                                           price=restaurant['price'], \n",
    "                                           is_closed=restaurant['is_closed'],\n",
    "                                           review_count=restaurant['review_count'],\n",
    "                                          ), yelp_restaurants))"
   ]
  },
  {
   "cell_type": "markdown",
   "metadata": {},
   "source": [
    "We have a list of five restaurants from the Yelp Api.  Let's take a look at the list."
   ]
  },
  {
   "cell_type": "code",
   "execution_count": 3,
   "metadata": {},
   "outputs": [
    {
     "data": {
      "text/plain": [
       "[{'name': 'Fork & Fig',\n",
       "  'price': '$$',\n",
       "  'is_closed': False,\n",
       "  'review_count': 610},\n",
       " {'name': 'Salt And Board',\n",
       "  'price': '$$',\n",
       "  'is_closed': False,\n",
       "  'review_count': 11},\n",
       " {'name': 'Frontier Restaurant',\n",
       "  'price': '$',\n",
       "  'is_closed': False,\n",
       "  'review_count': 1373},\n",
       " {'name': 'Nexus Brewery',\n",
       "  'price': '$$',\n",
       "  'is_closed': False,\n",
       "  'review_count': 680},\n",
       " {'name': \"Devon's Pop Smoke\",\n",
       "  'price': '$$',\n",
       "  'is_closed': False,\n",
       "  'review_count': 54},\n",
       " {'name': 'Cocina Azul',\n",
       "  'price': '$$',\n",
       "  'is_closed': True,\n",
       "  'review_count': 647},\n",
       " {'name': 'Philly Steaks',\n",
       "  'price': '$$',\n",
       "  'is_closed': False,\n",
       "  'review_count': 25},\n",
       " {'name': 'Stripes Biscuit',\n",
       "  'price': '$$',\n",
       "  'is_closed': True,\n",
       "  'review_count': 20}]"
      ]
     },
     "execution_count": 3,
     "metadata": {},
     "output_type": "execute_result"
    }
   ],
   "source": [
    "restaurants"
   ]
  },
  {
   "cell_type": "markdown",
   "metadata": {},
   "source": [
    "### Using map"
   ]
  },
  {
   "cell_type": "markdown",
   "metadata": {},
   "source": [
    "As you can see, it's a little tricky to see the names of all of the restaurants.  Assign a variable `names` to equal the list of names of the functions.  Use the `map` function to do so."
   ]
  },
  {
   "cell_type": "code",
   "execution_count": 3,
   "metadata": {},
   "outputs": [
    {
     "data": {
      "text/plain": [
       "['Fork & Fig',\n",
       " 'Salt And Board',\n",
       " 'Frontier Restaurant',\n",
       " 'Nexus Brewery',\n",
       " \"Devon's Pop Smoke\",\n",
       " 'Cocina Azul',\n",
       " 'Philly Steaks',\n",
       " 'Stripes Biscuit']"
      ]
     },
     "execution_count": 3,
     "metadata": {},
     "output_type": "execute_result"
    }
   ],
   "source": [
    "names = list(map(lambda name: name['name'], restaurants))\n",
    "names\n",
    "# ['Fork & Fig',\n",
    "#  'Salt And Board',\n",
    "#  'Frontier Restaurant',\n",
    "#  'Nexus Brewery',\n",
    "#  \"Devon's Pop Smoke\",\n",
    "#  'Cocina Azul',\n",
    "#  'Philly Steaks',\n",
    "#  'Stripes Biscuit']"
   ]
  },
  {
   "cell_type": "markdown",
   "metadata": {},
   "source": [
    "Let's get a sense of how many reviews were written for each of the restaurants.  Assign a variable `review_counts` to equal a list of the `review_count` for each restaurant.  "
   ]
  },
  {
   "cell_type": "code",
   "execution_count": 4,
   "metadata": {},
   "outputs": [
    {
     "data": {
      "text/plain": [
       "[610, 11, 1373, 680, 54, 647, 25, 20]"
      ]
     },
     "execution_count": 4,
     "metadata": {},
     "output_type": "execute_result"
    }
   ],
   "source": [
    "review_counts = list(map(lambda c: c['review_count'], restaurants))\n",
    "review_counts # [610, 11, 1373, 680, 54, 647, 25, 20]"
   ]
  },
  {
   "cell_type": "markdown",
   "metadata": {},
   "source": [
    "Now add up the elements in the list, and assign the result to a variable named `total_reviews`."
   ]
  },
  {
   "cell_type": "code",
   "execution_count": 5,
   "metadata": {},
   "outputs": [
    {
     "data": {
      "text/plain": [
       "3420"
      ]
     },
     "execution_count": 5,
     "metadata": {},
     "output_type": "execute_result"
    }
   ],
   "source": [
    "total_reviews = sum(review_counts)\n",
    "total_reviews # 3420"
   ]
  },
  {
   "cell_type": "markdown",
   "metadata": {},
   "source": [
    "It's a little tricky to work with the price in the format of dollars signs.  So write a function called `format_restaurants` that changes each restaurant to have the attribute `'price'` point to the number of dollar signs.  We'll get you started with the function, `format_restaurant`."
   ]
  },
  {
   "cell_type": "code",
   "execution_count": 6,
   "metadata": {},
   "outputs": [],
   "source": [
    "def format_restaurant(restaurant):\n",
    "    if type(restaurant['price']) == str:\n",
    "        restaurant['price'] = len(restaurant['price'])\n",
    "    return restaurant"
   ]
  },
  {
   "cell_type": "code",
   "execution_count": 7,
   "metadata": {},
   "outputs": [
    {
     "data": {
      "text/plain": [
       "{'name': 'Fork & Fig', 'price': 2, 'is_closed': False, 'review_count': 610}"
      ]
     },
     "execution_count": 7,
     "metadata": {},
     "output_type": "execute_result"
    }
   ],
   "source": [
    "format_restaurant(restaurants[0]) # {'is_closed': False, 'name': 'Fork & Fig', 'price': 2, 'review_count': 610}"
   ]
  },
  {
   "cell_type": "markdown",
   "metadata": {},
   "source": [
    "Now write a function called `format_restaurants`, that returns a list of restaurants with each of them formatted with price pointing to the respective number."
   ]
  },
  {
   "cell_type": "code",
   "execution_count": 8,
   "metadata": {},
   "outputs": [],
   "source": [
    "def format_restaurants(restaurants):\n",
    "    reformatted = []\n",
    "    for r in restaurants:\n",
    "        reformatted.append(format_restaurant(r))\n",
    "    return reformatted"
   ]
  },
  {
   "cell_type": "code",
   "execution_count": 11,
   "metadata": {
    "scrolled": true
   },
   "outputs": [
    {
     "data": {
      "text/plain": [
       "[{'name': 'Fork & Fig', 'price': 2, 'is_closed': False, 'review_count': 610},\n",
       " {'name': 'Salt And Board',\n",
       "  'price': 2,\n",
       "  'is_closed': False,\n",
       "  'review_count': 11},\n",
       " {'name': 'Frontier Restaurant',\n",
       "  'price': 1,\n",
       "  'is_closed': False,\n",
       "  'review_count': 1373},\n",
       " {'name': 'Nexus Brewery',\n",
       "  'price': 2,\n",
       "  'is_closed': False,\n",
       "  'review_count': 680},\n",
       " {'name': \"Devon's Pop Smoke\",\n",
       "  'price': 2,\n",
       "  'is_closed': False,\n",
       "  'review_count': 54},\n",
       " {'name': 'Cocina Azul', 'price': 2, 'is_closed': True, 'review_count': 647},\n",
       " {'name': 'Philly Steaks', 'price': 2, 'is_closed': False, 'review_count': 25},\n",
       " {'name': 'Stripes Biscuit',\n",
       "  'price': 2,\n",
       "  'is_closed': True,\n",
       "  'review_count': 20}]"
      ]
     },
     "execution_count": 11,
     "metadata": {},
     "output_type": "execute_result"
    }
   ],
   "source": [
    "format_restaurants(restaurants)\n",
    "\n",
    "# [{'is_closed': False, 'name': 'Fork & Fig', 'price': 2, 'review_count': 610},\n",
    "#  {'is_closed': False,\n",
    "#   'name': 'Salt And Board',\n",
    "#   'price': 2,\n",
    "#   'review_count': 11},\n",
    "#  {'is_closed': False,\n",
    "#   'name': 'Frontier Restaurant',\n",
    "#   'price': 1,\n",
    "#   'review_count': 1373},\n",
    "#  {'is_closed': False,\n",
    "#   'name': 'Nexus Brewery',\n",
    "#   'price': 2,\n",
    "#   'review_count': 680},\n",
    "#  {'is_closed': False,\n",
    "#   'name': \"Devon's Pop Smoke\",\n",
    "#   'price': 2,\n",
    "#   'review_count': 54},\n",
    "#  {'is_closed': True, 'name': 'Cocina Azul', 'price': 2, 'review_count': 647},\n",
    "#  {'is_closed': False, 'name': 'Philly Steaks', 'price': 2, 'review_count': 25},\n",
    "#  {'is_closed': True,\n",
    "#   'name': 'Stripes Biscuit',\n",
    "#   'price': 2,\n",
    "#   'review_count': 20}]"
   ]
  },
  {
   "cell_type": "markdown",
   "metadata": {},
   "source": [
    "### Filter"
   ]
  },
  {
   "cell_type": "markdown",
   "metadata": {},
   "source": [
    "Now let's search for restaurants based on specific criteria.  \n",
    "\n",
    "Write a function called `open_restaurants` that takes in a list of restaurants and only returns those that are open."
   ]
  },
  {
   "cell_type": "code",
   "execution_count": 9,
   "metadata": {},
   "outputs": [],
   "source": [
    "def open_restaurants(restaurants):\n",
    "    return list(filter(lambda r: not r['is_closed'], restaurants))\n",
    "    "
   ]
  },
  {
   "cell_type": "code",
   "execution_count": 10,
   "metadata": {},
   "outputs": [
    {
     "data": {
      "text/plain": [
       "[{'name': 'Fork & Fig', 'price': 2, 'is_closed': False, 'review_count': 610},\n",
       " {'name': 'Salt And Board',\n",
       "  'price': '$$',\n",
       "  'is_closed': False,\n",
       "  'review_count': 11},\n",
       " {'name': 'Frontier Restaurant',\n",
       "  'price': '$',\n",
       "  'is_closed': False,\n",
       "  'review_count': 1373},\n",
       " {'name': 'Nexus Brewery',\n",
       "  'price': '$$',\n",
       "  'is_closed': False,\n",
       "  'review_count': 680},\n",
       " {'name': \"Devon's Pop Smoke\",\n",
       "  'price': '$$',\n",
       "  'is_closed': False,\n",
       "  'review_count': 54},\n",
       " {'name': 'Philly Steaks',\n",
       "  'price': '$$',\n",
       "  'is_closed': False,\n",
       "  'review_count': 25}]"
      ]
     },
     "execution_count": 10,
     "metadata": {},
     "output_type": "execute_result"
    }
   ],
   "source": [
    "open_restaurants(restaurants)\n",
    "\n",
    "# [{'is_closed': False, 'name': 'Fork & Fig', 'price': 2, 'review_count': 610},\n",
    "#  {'is_closed': False,\n",
    "#   'name': 'Salt And Board',\n",
    "#   'price': 2,\n",
    "#   'review_count': 11},\n",
    "#  {'is_closed': False,\n",
    "#   'name': 'Frontier Restaurant',\n",
    "#   'price': 1,\n",
    "#   'review_count': 1373},\n",
    "#  {'is_closed': False,\n",
    "#   'name': 'Nexus Brewery',\n",
    "#   'price': 2,\n",
    "#   'review_count': 680},\n",
    "#  {'is_closed': False,\n",
    "#   'name': \"Devon's Pop Smoke\",\n",
    "#   'price': 2,\n",
    "#   'review_count': 54},\n",
    "#  {'is_closed': False, 'name': 'Philly Steaks', 'price': 2, 'review_count': 25}]"
   ]
  },
  {
   "cell_type": "markdown",
   "metadata": {},
   "source": [
    "Now write a function called `cheapest_restaurants` that returns the restaurants that have a price of  1, or '$'.  "
   ]
  },
  {
   "cell_type": "code",
   "execution_count": 14,
   "metadata": {},
   "outputs": [
    {
     "data": {
      "text/plain": [
       "<map at 0x7ff21c651e48>"
      ]
     },
     "execution_count": 14,
     "metadata": {},
     "output_type": "execute_result"
    }
   ],
   "source": [
    "def cheapest_restaurants(restaurants):\n",
    "    return list(filter(lambda r: r['price'] == 1, format_restaurants(r)))"
   ]
  },
  {
   "cell_type": "code",
   "execution_count": 12,
   "metadata": {
    "scrolled": true
   },
   "outputs": [
    {
     "ename": "TypeError",
     "evalue": "string indices must be integers",
     "output_type": "error",
     "traceback": [
      "\u001b[0;31m\u001b[0m",
      "\u001b[0;31mTypeError\u001b[0mTraceback (most recent call last)",
      "\u001b[0;32m<ipython-input-12-6f5dd00ff7ea>\u001b[0m in \u001b[0;36m<module>\u001b[0;34m()\u001b[0m\n\u001b[0;32m----> 1\u001b[0;31m \u001b[0mcheapest_restaurants\u001b[0m\u001b[0;34m(\u001b[0m\u001b[0mrestaurants\u001b[0m\u001b[0;34m)\u001b[0m\u001b[0;34m\u001b[0m\u001b[0m\n\u001b[0m\u001b[1;32m      2\u001b[0m \u001b[0;34m\u001b[0m\u001b[0m\n\u001b[1;32m      3\u001b[0m \u001b[0;31m# [{'is_closed': False,\u001b[0m\u001b[0;34m\u001b[0m\u001b[0;34m\u001b[0m\u001b[0m\n\u001b[1;32m      4\u001b[0m \u001b[0;31m#   'name': 'Frontier Restaurant',\u001b[0m\u001b[0;34m\u001b[0m\u001b[0;34m\u001b[0m\u001b[0m\n\u001b[1;32m      5\u001b[0m \u001b[0;31m#   'price': 1,\u001b[0m\u001b[0;34m\u001b[0m\u001b[0;34m\u001b[0m\u001b[0m\n",
      "\u001b[0;32m<ipython-input-11-0ec8b1d84c9a>\u001b[0m in \u001b[0;36mcheapest_restaurants\u001b[0;34m(restaurants)\u001b[0m\n\u001b[1;32m      1\u001b[0m \u001b[0;32mdef\u001b[0m \u001b[0mcheapest_restaurants\u001b[0m\u001b[0;34m(\u001b[0m\u001b[0mrestaurants\u001b[0m\u001b[0;34m)\u001b[0m\u001b[0;34m:\u001b[0m\u001b[0;34m\u001b[0m\u001b[0m\n\u001b[0;32m----> 2\u001b[0;31m     \u001b[0;32mreturn\u001b[0m \u001b[0mlist\u001b[0m\u001b[0;34m(\u001b[0m\u001b[0mmap\u001b[0m\u001b[0;34m(\u001b[0m\u001b[0mformat_restaurants\u001b[0m\u001b[0;34m,\u001b[0m \u001b[0mrestaurants\u001b[0m\u001b[0;34m)\u001b[0m\u001b[0;34m)\u001b[0m\u001b[0;34m\u001b[0m\u001b[0m\n\u001b[0m\u001b[1;32m      3\u001b[0m     \u001b[0;31m#list(filter(lambda r: r['price'] == 1, ))\u001b[0m\u001b[0;34m\u001b[0m\u001b[0;34m\u001b[0m\u001b[0m\n",
      "\u001b[0;32m<ipython-input-8-96d08017cbc0>\u001b[0m in \u001b[0;36mformat_restaurants\u001b[0;34m(restaurants)\u001b[0m\n\u001b[1;32m      2\u001b[0m     \u001b[0mreformatted\u001b[0m \u001b[0;34m=\u001b[0m \u001b[0;34m[\u001b[0m\u001b[0;34m]\u001b[0m\u001b[0;34m\u001b[0m\u001b[0m\n\u001b[1;32m      3\u001b[0m     \u001b[0;32mfor\u001b[0m \u001b[0mr\u001b[0m \u001b[0;32min\u001b[0m \u001b[0mrestaurants\u001b[0m\u001b[0;34m:\u001b[0m\u001b[0;34m\u001b[0m\u001b[0m\n\u001b[0;32m----> 4\u001b[0;31m         \u001b[0mreformatted\u001b[0m\u001b[0;34m.\u001b[0m\u001b[0mappend\u001b[0m\u001b[0;34m(\u001b[0m\u001b[0mformat_restaurant\u001b[0m\u001b[0;34m(\u001b[0m\u001b[0mr\u001b[0m\u001b[0;34m)\u001b[0m\u001b[0;34m)\u001b[0m\u001b[0;34m\u001b[0m\u001b[0m\n\u001b[0m\u001b[1;32m      5\u001b[0m     \u001b[0;32mreturn\u001b[0m \u001b[0mreformatted\u001b[0m\u001b[0;34m\u001b[0m\u001b[0m\n",
      "\u001b[0;32m<ipython-input-6-9d29d3dbe6b0>\u001b[0m in \u001b[0;36mformat_restaurant\u001b[0;34m(restaurant)\u001b[0m\n\u001b[1;32m      1\u001b[0m \u001b[0;32mdef\u001b[0m \u001b[0mformat_restaurant\u001b[0m\u001b[0;34m(\u001b[0m\u001b[0mrestaurant\u001b[0m\u001b[0;34m)\u001b[0m\u001b[0;34m:\u001b[0m\u001b[0;34m\u001b[0m\u001b[0m\n\u001b[0;32m----> 2\u001b[0;31m     \u001b[0;32mif\u001b[0m \u001b[0mtype\u001b[0m\u001b[0;34m(\u001b[0m\u001b[0mrestaurant\u001b[0m\u001b[0;34m[\u001b[0m\u001b[0;34m'price'\u001b[0m\u001b[0;34m]\u001b[0m\u001b[0;34m)\u001b[0m \u001b[0;34m==\u001b[0m \u001b[0mstr\u001b[0m\u001b[0;34m:\u001b[0m\u001b[0;34m\u001b[0m\u001b[0m\n\u001b[0m\u001b[1;32m      3\u001b[0m         \u001b[0mrestaurant\u001b[0m\u001b[0;34m[\u001b[0m\u001b[0;34m'price'\u001b[0m\u001b[0;34m]\u001b[0m \u001b[0;34m=\u001b[0m \u001b[0mlen\u001b[0m\u001b[0;34m(\u001b[0m\u001b[0mrestaurant\u001b[0m\u001b[0;34m[\u001b[0m\u001b[0;34m'price'\u001b[0m\u001b[0;34m]\u001b[0m\u001b[0;34m)\u001b[0m\u001b[0;34m\u001b[0m\u001b[0m\n\u001b[1;32m      4\u001b[0m     \u001b[0;32mreturn\u001b[0m \u001b[0mrestaurant\u001b[0m\u001b[0;34m\u001b[0m\u001b[0m\n",
      "\u001b[0;31mTypeError\u001b[0m: string indices must be integers"
     ]
    }
   ],
   "source": [
    "cheapest_restaurants(restaurants)\n",
    "\n",
    "# [{'is_closed': False,\n",
    "#   'name': 'Frontier Restaurant',\n",
    "#   'price': 1,\n",
    "#   'review_count': 1373}]"
   ]
  },
  {
   "cell_type": "markdown",
   "metadata": {},
   "source": [
    "Next, write a function that filters out only those restaurants that have 100 reviews or more, since we want to make sure there are some solid data points backing the reviews -- we are burgeoning data scientists after all!"
   ]
  },
  {
   "cell_type": "code",
   "execution_count": null,
   "metadata": {},
   "outputs": [],
   "source": [
    "def sufficiently_reviewed_restaurants(restaurants):\n",
    "    pass"
   ]
  },
  {
   "cell_type": "code",
   "execution_count": null,
   "metadata": {},
   "outputs": [],
   "source": [
    "sufficiently_reviewed_restaurants(restaurants)\n",
    "\n",
    "# [{'name': 'Fork & Fig', 'price': 2, 'is_closed': False, 'review_count': 610},\n",
    "#  {'name': 'Frontier Restaurant', 'price': 1, 'is_closed': False,  'review_count': 1373},\n",
    "#  {'name': 'Nexus Brewery', 'price': 2, 'is_closed': False, 'review_count': 680},\n",
    "#  {'name': 'Cocina Azul', 'price': 2, 'is_closed': True, 'review_count': 647}]"
   ]
  },
  {
   "cell_type": "markdown",
   "metadata": {},
   "source": [
    "### Summary"
   ]
  },
  {
   "cell_type": "markdown",
   "metadata": {},
   "source": [
    "Neat! In this lab, we successfully proved our prowess when it comes to iterating over each element of a list with both `map` and `filter`! We used `map` to format our data into ways that better help us answer questions and extrapolate insights. We used `filter` to return subsets of our data like our restaurants that were only one $ or our restaurants that had 100 or more reviews."
   ]
  }
 ],
 "metadata": {
  "kernelspec": {
   "display_name": "Python 3",
   "language": "python",
   "name": "python3"
  },
  "language_info": {
   "codemirror_mode": {
    "name": "ipython",
    "version": 3
   },
   "file_extension": ".py",
   "mimetype": "text/x-python",
   "name": "python",
   "nbconvert_exporter": "python",
   "pygments_lexer": "ipython3",
   "version": "3.6.4"
  }
 },
 "nbformat": 4,
 "nbformat_minor": 2
}
